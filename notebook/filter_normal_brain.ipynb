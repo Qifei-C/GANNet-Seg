{
 "cells": [
  {
   "cell_type": "code",
   "execution_count": 1,
   "id": "80b2f524-9428-4fa5-b269-294dcf17396a",
   "metadata": {},
   "outputs": [
    {
     "name": "stdout",
     "output_type": "stream",
     "text": [
      "Normal subjects (no tumor, all blank slices): []\n"
     ]
    }
   ],
   "source": [
    "import nibabel as nib\n",
    "import numpy as np\n",
    "import pandas as pd\n",
    "\n",
    "# Load the detailed summary CSV file\n",
    "file_path = '../data/training_detailed_summary_2020.csv'\n",
    "data = pd.read_csv(file_path)\n",
    "\n",
    "# Filter rows where Scan Type is 'seg'\n",
    "segmentation_files = data[data['Scan Type'] == 'seg']\n",
    "\n",
    "# List to store indices of normal subjects\n",
    "normal_subject_indices = []\n",
    "\n",
    "# Iterate through each segmentation file\n",
    "for index, row in segmentation_files.iterrows():\n",
    "    seg_file_path = row['File Path']\n",
    "    subject_id = row['Subject ID']\n",
    "    \n",
    "    # Load the segmentation file using nibabel\n",
    "    seg_img = nib.load(seg_file_path)\n",
    "    seg_data = seg_img.get_fdata()\n",
    "    \n",
    "    # Check if all slices are blank (i.e., all values are 0) across all slices\n",
    "    if np.all(seg_data == 0):\n",
    "        normal_subject_indices.append(subject_id)\n",
    "\n",
    "# Output the indices of normal subjects\n",
    "print(f\"Normal subjects (no tumor, all blank slices): {normal_subject_indices}\")"
   ]
  },
  {
   "cell_type": "code",
   "execution_count": null,
   "id": "d87cada2-e6e2-4b6c-a143-8fdafe0a3b38",
   "metadata": {},
   "outputs": [],
   "source": []
  }
 ],
 "metadata": {
  "kernelspec": {
   "display_name": "Python 3 (ipykernel)",
   "language": "python",
   "name": "python3"
  },
  "language_info": {
   "codemirror_mode": {
    "name": "ipython",
    "version": 3
   },
   "file_extension": ".py",
   "mimetype": "text/x-python",
   "name": "python",
   "nbconvert_exporter": "python",
   "pygments_lexer": "ipython3",
   "version": "3.10.15"
  }
 },
 "nbformat": 4,
 "nbformat_minor": 5
}
